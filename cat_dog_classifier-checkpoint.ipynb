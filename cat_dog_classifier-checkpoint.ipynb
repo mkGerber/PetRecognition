{
 "cells": [
  {
   "cell_type": "code",
   "execution_count": 2,
   "metadata": {},
   "outputs": [],
   "source": [
    "import pandas as pd\n",
    "import numpy as np\n",
    "import os"
   ]
  },
  {
   "cell_type": "code",
   "execution_count": 13,
   "metadata": {},
   "outputs": [],
   "source": [
    "def listdir_nohidden(path):\n",
    "    for f in os.listdir(path):\n",
    "        if not f.startswith('.'):\n",
    "            yield f"
   ]
  },
  {
   "cell_type": "code",
   "execution_count": 31,
   "metadata": {},
   "outputs": [],
   "source": [
    "def read_files(directory):\n",
    "    try:\n",
    "        df = pd.DataFrame({})\n",
    "        for filename in listdir_nohidden(directory):\n",
    "            filepath = os.path.join(directory, filename)\n",
    "            cat = 0\n",
    "#           Cat or Dog Directory\n",
    "            if filename == 'cat_breeds':\n",
    "                cat = 1\n",
    "            \n",
    "#           Animal breed\n",
    "            for breed_path in listdir_nohidden(filepath):\n",
    "                filepath = os.path.join(filepath, breed_path)\n",
    "                df = pd.concat([df, pd.DataFrame({'filepath': [filepath], 'cat': [cat], 'breed': [breed_path]})], ignore_index=True)\n",
    "        return df\n",
    "    except FileNotFoundError:\n",
    "        print(f\"Error: Directory not found: {directory_path}\")\n",
    "    "
   ]
  },
  {
   "cell_type": "code",
   "execution_count": 32,
   "metadata": {},
   "outputs": [
    {
     "name": "stdout",
     "output_type": "stream",
     "text": [
      "                                             filepath  cat  \\\n",
      "0   /Users/allieokeeffe/Desktop/school/math/math35...    1   \n",
      "1   /Users/allieokeeffe/Desktop/school/math/math35...    1   \n",
      "2   /Users/allieokeeffe/Desktop/school/math/math35...    1   \n",
      "3   /Users/allieokeeffe/Desktop/school/math/math35...    1   \n",
      "4   /Users/allieokeeffe/Desktop/school/math/math35...    1   \n",
      "5   /Users/allieokeeffe/Desktop/school/math/math35...    1   \n",
      "6   /Users/allieokeeffe/Desktop/school/math/math35...    1   \n",
      "7   /Users/allieokeeffe/Desktop/school/math/math35...    1   \n",
      "8   /Users/allieokeeffe/Desktop/school/math/math35...    1   \n",
      "9   /Users/allieokeeffe/Desktop/school/math/math35...    1   \n",
      "10  /Users/allieokeeffe/Desktop/school/math/math35...    1   \n",
      "11  /Users/allieokeeffe/Desktop/school/math/math35...    1   \n",
      "12  /Users/allieokeeffe/Desktop/school/math/math35...    0   \n",
      "13  /Users/allieokeeffe/Desktop/school/math/math35...    0   \n",
      "14  /Users/allieokeeffe/Desktop/school/math/math35...    0   \n",
      "15  /Users/allieokeeffe/Desktop/school/math/math35...    0   \n",
      "16  /Users/allieokeeffe/Desktop/school/math/math35...    0   \n",
      "17  /Users/allieokeeffe/Desktop/school/math/math35...    0   \n",
      "18  /Users/allieokeeffe/Desktop/school/math/math35...    0   \n",
      "19  /Users/allieokeeffe/Desktop/school/math/math35...    0   \n",
      "20  /Users/allieokeeffe/Desktop/school/math/math35...    0   \n",
      "21  /Users/allieokeeffe/Desktop/school/math/math35...    0   \n",
      "22  /Users/allieokeeffe/Desktop/school/math/math35...    0   \n",
      "23  /Users/allieokeeffe/Desktop/school/math/math35...    0   \n",
      "24  /Users/allieokeeffe/Desktop/school/math/math35...    0   \n",
      "25  /Users/allieokeeffe/Desktop/school/math/math35...    0   \n",
      "26  /Users/allieokeeffe/Desktop/school/math/math35...    0   \n",
      "27  /Users/allieokeeffe/Desktop/school/math/math35...    0   \n",
      "28  /Users/allieokeeffe/Desktop/school/math/math35...    0   \n",
      "29  /Users/allieokeeffe/Desktop/school/math/math35...    0   \n",
      "30  /Users/allieokeeffe/Desktop/school/math/math35...    0   \n",
      "31  /Users/allieokeeffe/Desktop/school/math/math35...    0   \n",
      "32  /Users/allieokeeffe/Desktop/school/math/math35...    0   \n",
      "33  /Users/allieokeeffe/Desktop/school/math/math35...    0   \n",
      "34  /Users/allieokeeffe/Desktop/school/math/math35...    0   \n",
      "35  /Users/allieokeeffe/Desktop/school/math/math35...    0   \n",
      "36  /Users/allieokeeffe/Desktop/school/math/math35...    0   \n",
      "\n",
      "                         breed  \n",
      "0                       sphynx  \n",
      "1                       birman  \n",
      "2            british_shorthair  \n",
      "3                      ragdoll  \n",
      "4                   abyssinian  \n",
      "5                 russian_blue  \n",
      "6                      siamese  \n",
      "7                       bengal  \n",
      "8                       bombay  \n",
      "9                 egyptian_mau  \n",
      "10                  maine_coon  \n",
      "11                     persian  \n",
      "12             wheaten_terrier  \n",
      "13              great_pyrenees  \n",
      "14            american_bulldog  \n",
      "15                  pomeranian  \n",
      "16   american_pit_bull_terrier  \n",
      "17           yorkshire_terrier  \n",
      "18               japanese_chin  \n",
      "19      english_cocker_spaniel  \n",
      "20          miniature_pinscher  \n",
      "21                basset_hound  \n",
      "22               saint_bernard  \n",
      "23                   chihuahua  \n",
      "24                newfoundland  \n",
      "25                         pug  \n",
      "26                    havanese  \n",
      "27                      beagle  \n",
      "28          german_shorthaired  \n",
      "29  staffordshire_bull_terrier  \n",
      "30                     samoyed  \n",
      "31            scottish_terrier  \n",
      "32                  leonberger  \n",
      "33                    keeshond  \n",
      "34                       boxer  \n",
      "35              english_setter  \n",
      "36                   shiba_inu  \n"
     ]
    }
   ],
   "source": [
    "df = read_files(os.getcwd() + '/pet_images')\n",
    "print(df)"
   ]
  },
  {
   "cell_type": "code",
   "execution_count": null,
   "metadata": {},
   "outputs": [],
   "source": [
    "from tensorflow import keras"
   ]
  }
 ],
 "metadata": {
  "kernelspec": {
   "display_name": "Python [conda env:base] *",
   "language": "python",
   "name": "conda-base-py"
  },
  "language_info": {
   "codemirror_mode": {
    "name": "ipython",
    "version": 3
   },
   "file_extension": ".py",
   "mimetype": "text/x-python",
   "name": "python",
   "nbconvert_exporter": "python",
   "pygments_lexer": "ipython3",
   "version": "3.12.7"
  }
 },
 "nbformat": 4,
 "nbformat_minor": 4
}
