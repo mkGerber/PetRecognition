{
 "cells": [
  {
   "cell_type": "code",
   "execution_count": null,
   "id": "16bcb988-b591-42d4-9fa9-ddd053ceed4f",
   "metadata": {},
   "outputs": [],
   "source": [
    "#pip install fastai"
   ]
  },
  {
   "cell_type": "code",
   "execution_count": null,
   "id": "17a99f97-a844-4726-b2e7-8d5166d4b330",
   "metadata": {},
   "outputs": [],
   "source": [
    "from fastai import *\n",
    "from fastai.vision.all import *\n",
    "import numpy as np"
   ]
  },
  {
   "cell_type": "code",
   "execution_count": null,
   "id": "251c2fad-2e8c-43f0-90ac-1e5494251b06",
   "metadata": {},
   "outputs": [],
   "source": [
    "batch_size = 32\n",
    "img_path = 'pet_images/cat_breeds'\n",
    "fnames = get_image_files(img_path)\n",
    "pat = r'^(.*)_\\d+.jpg'"
   ]
  },
  {
   "cell_type": "code",
   "execution_count": null,
   "id": "988ea52c-7a2a-4dd7-9871-de0a3eaaac08",
   "metadata": {},
   "outputs": [],
   "source": [
    "np.random.seed(42)"
   ]
  },
  {
   "cell_type": "code",
   "execution_count": null,
   "id": "63af8fbd-018a-4075-a580-eb80c8ee71e9",
   "metadata": {},
   "outputs": [],
   "source": [
    "item_tfms = Resize(460)\n",
    "batch_tfms = aug_transforms(size=224, max_rotate=10, flip_vert=True, max_zoom=1.1)"
   ]
  },
  {
   "cell_type": "code",
   "execution_count": null,
   "id": "7e6c0920-765b-4448-a7d3-86579e345368",
   "metadata": {},
   "outputs": [],
   "source": [
    "dls = ImageDataLoaders.from_name_re(\n",
    "    img_path, fnames, pat,\n",
    "    item_tfms=item_tfms,\n",
    "    batch_tfms=batch_tfms,\n",
    "    bs=batch_size\n",
    ")"
   ]
  },
  {
   "cell_type": "code",
   "execution_count": null,
   "id": "ee9d342f-f53f-4e5b-b74c-7d7e4058ad6d",
   "metadata": {
    "scrolled": true
   },
   "outputs": [],
   "source": [
    "dls.show_batch(max_n=9, figsize=(6,6))"
   ]
  },
  {
   "cell_type": "code",
   "execution_count": null,
   "id": "25f21052-f062-4d44-b944-07cd6e09b5da",
   "metadata": {},
   "outputs": [],
   "source": [
    "learn = vision_learner(dls, resnet50, metrics=error_rate).to_fp16()"
   ]
  },
  {
   "cell_type": "code",
   "execution_count": null,
   "id": "5b9e997b-84e6-4e4f-a415-07f8e17f43b4",
   "metadata": {},
   "outputs": [],
   "source": [
    "learn.lr_find()"
   ]
  },
  {
   "cell_type": "code",
   "execution_count": null,
   "id": "51e926cc-7e5e-483c-b728-3e6c01cb955b",
   "metadata": {},
   "outputs": [],
   "source": [
    "learn.fine_tune(5, base_lr=1e-3)"
   ]
  },
  {
   "cell_type": "code",
   "execution_count": null,
   "id": "1baee243-bc77-49b1-8463-47fceba53298",
   "metadata": {},
   "outputs": [],
   "source": [
    "learn.show_results()"
   ]
  },
  {
   "cell_type": "code",
   "execution_count": null,
   "id": "de291ce0-a1c2-4165-802e-9ac4bc1ba389",
   "metadata": {},
   "outputs": [],
   "source": [
    "interp = Interpretation.from_learner(learn)"
   ]
  },
  {
   "cell_type": "code",
   "execution_count": null,
   "id": "f90b447b-c4b4-4ab2-bdaa-10eb682e6ee3",
   "metadata": {},
   "outputs": [],
   "source": [
    "interp.plot_top_losses(9, figsize=(15,10))"
   ]
  }
 ],
 "metadata": {
  "kernelspec": {
   "display_name": "Python 3 (ipykernel)",
   "language": "python",
   "name": "python3"
  },
  "language_info": {
   "codemirror_mode": {
    "name": "ipython",
    "version": 3
   },
   "file_extension": ".py",
   "mimetype": "text/x-python",
   "name": "python",
   "nbconvert_exporter": "python",
   "pygments_lexer": "ipython3",
   "version": "3.10.12"
  }
 },
 "nbformat": 4,
 "nbformat_minor": 5
}
